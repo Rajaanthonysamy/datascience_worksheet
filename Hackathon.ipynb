{
 "cells": [
  {
   "cell_type": "code",
   "execution_count": 1,
   "id": "b7760d5a",
   "metadata": {},
   "outputs": [],
   "source": [
    "import json"
   ]
  },
  {
   "cell_type": "code",
   "execution_count": 9,
   "id": "a38ed51e",
   "metadata": {},
   "outputs": [],
   "source": [
    "f=open('data.json')"
   ]
  },
  {
   "cell_type": "code",
   "execution_count": 10,
   "id": "40bab94a",
   "metadata": {},
   "outputs": [],
   "source": [
    "jsondata=json.load(f)"
   ]
  },
  {
   "cell_type": "code",
   "execution_count": 21,
   "id": "4e44f3b2",
   "metadata": {},
   "outputs": [
    {
     "name": "stdout",
     "output_type": "stream",
     "text": [
      "0\n"
     ]
    }
   ],
   "source": [
    "print(jsondata['jsonData'][0]['smeCreditRiskScoreComponents']['currentAccountTotalCreditTurnoverScorePoints'])"
   ]
  },
  {
   "cell_type": "code",
   "execution_count": 47,
   "id": "b3455e7f",
   "metadata": {},
   "outputs": [],
   "source": [
    "current_max=237\n",
    "credit_max=93\n",
    "demo_max=69\n",
    "princ_max=59\n",
    "trade_max=50\n",
    "fina_max=95\n",
    "loan_max=249"
   ]
  },
  {
   "cell_type": "code",
   "execution_count": 29,
   "id": "36e0ec23",
   "metadata": {},
   "outputs": [],
   "source": [
    "current_data=jsondata['jsonData'][0]['smeCreditRiskScoreComponents']['currentAccountTotalCreditTurnoverScorePoints']+jsondata['jsonData'][0]['smeCreditRiskScoreComponents']['currentAccountTotalNumberOfRejectedPaymentsScorePoints']+jsondata['jsonData'][0]['smeCreditRiskScoreComponents']['currentAccountTotalCreditTurnoverScorePoints']+jsondata['jsonData'][0]['smeCreditRiskScoreComponents']['currentAccountOverdraftUtilisationScorePoints']+jsondata['jsonData'][0]['smeCreditRiskScoreComponents']['currentAccountLeastFavourableStatusScorePoints']+jsondata['jsonData'][0]['smeCreditRiskScoreComponents']['currentAccountTotalCreditBalanceAmountScorePoints']+jsondata['jsonData'][0]['smeCreditRiskScoreComponents']['currentAccountOverdraftDaysInExcessScorePoints']"
   ]
  },
  {
   "cell_type": "code",
   "execution_count": 30,
   "id": "5c332105",
   "metadata": {},
   "outputs": [
    {
     "data": {
      "text/plain": [
       "0"
      ]
     },
     "execution_count": 30,
     "metadata": {},
     "output_type": "execute_result"
    }
   ],
   "source": [
    "current_data"
   ]
  },
  {
   "cell_type": "code",
   "execution_count": 31,
   "id": "61dbe1ea",
   "metadata": {},
   "outputs": [],
   "source": [
    "credit_data=jsondata['jsonData'][0]['smeCreditRiskScoreComponents']['creditCardCashAdvancesScorePoints']+jsondata['jsonData'][0]['smeCreditRiskScoreComponents']['creditCardUtilisationScorePoints']"
   ]
  },
  {
   "cell_type": "code",
   "execution_count": 32,
   "id": "565f6810",
   "metadata": {},
   "outputs": [
    {
     "data": {
      "text/plain": [
       "0"
      ]
     },
     "execution_count": 32,
     "metadata": {},
     "output_type": "execute_result"
    }
   ],
   "source": [
    "credit_data"
   ]
  },
  {
   "cell_type": "code",
   "execution_count": 37,
   "id": "78b35a7b",
   "metadata": {},
   "outputs": [],
   "source": [
    "demo_data=jsondata['jsonData'][0]['smeCreditRiskScoreComponents']['businessAgeScorePoints']+jsondata['jsonData'][0]['smeCreditRiskScoreComponents']['primaryIndustryScorePoints']"
   ]
  },
  {
   "cell_type": "code",
   "execution_count": 36,
   "id": "56569ec1",
   "metadata": {},
   "outputs": [
    {
     "data": {
      "text/plain": [
       "69"
      ]
     },
     "execution_count": 36,
     "metadata": {},
     "output_type": "execute_result"
    }
   ],
   "source": [
    "demo_data"
   ]
  },
  {
   "cell_type": "code",
   "execution_count": 38,
   "id": "e444ded4",
   "metadata": {},
   "outputs": [],
   "source": [
    "princ_data=jsondata['jsonData'][0]['smeCreditRiskScoreComponents']['directorNegativeAssociationsScorePoints']"
   ]
  },
  {
   "cell_type": "code",
   "execution_count": 39,
   "id": "a24e12e6",
   "metadata": {},
   "outputs": [
    {
     "data": {
      "text/plain": [
       "0"
      ]
     },
     "execution_count": 39,
     "metadata": {},
     "output_type": "execute_result"
    }
   ],
   "source": [
    "princ_data"
   ]
  },
  {
   "cell_type": "code",
   "execution_count": 40,
   "id": "1f7a616a",
   "metadata": {},
   "outputs": [],
   "source": [
    "trade_data=jsondata['jsonData'][0]['smeCreditRiskScoreComponents']['paydexStandardDeviationScorePoints']"
   ]
  },
  {
   "cell_type": "code",
   "execution_count": 41,
   "id": "2707f666",
   "metadata": {},
   "outputs": [
    {
     "data": {
      "text/plain": [
       "0"
      ]
     },
     "execution_count": 41,
     "metadata": {},
     "output_type": "execute_result"
    }
   ],
   "source": [
    "trade_data"
   ]
  },
  {
   "cell_type": "code",
   "execution_count": 44,
   "id": "534853b4",
   "metadata": {},
   "outputs": [],
   "source": [
    "fina_data=jsondata['jsonData'][0]['smeCreditRiskScoreComponents']['financialStatementAgeScorePoints']+jsondata['jsonData'][0]['smeCreditRiskScoreComponents']['currentLiabilities2YearsGrowthScorePoints']+jsondata['jsonData'][0]['smeCreditRiskScoreComponents']['cashRatioScorePoints']"
   ]
  },
  {
   "cell_type": "code",
   "execution_count": 45,
   "id": "2d13247c",
   "metadata": {},
   "outputs": [
    {
     "data": {
      "text/plain": [
       "0"
      ]
     },
     "execution_count": 45,
     "metadata": {},
     "output_type": "execute_result"
    }
   ],
   "source": [
    "fina_data"
   ]
  },
  {
   "cell_type": "code",
   "execution_count": 60,
   "id": "1cf1f82d",
   "metadata": {},
   "outputs": [
    {
     "ename": "SyntaxError",
     "evalue": "invalid syntax (<ipython-input-60-eeecd765c5a7>, line 8)",
     "output_type": "error",
     "traceback": [
      "\u001b[1;36m  File \u001b[1;32m\"<ipython-input-60-eeecd765c5a7>\"\u001b[1;36m, line \u001b[1;32m8\u001b[0m\n\u001b[1;33m    data_dict={\"curr_per\":curr_per,\"credit_per\":credit_per,\"demo_per\":demo_per,\"princ_per\":princ_per,\"trade_per\":trade_per,\"\"}data_dict={\"curr_per\":curr_per,\"credit_per\":credit_per,\"demo_per\":demo_per,\"princ_per\":princ_per,\"trade_per\":trade_per,\"\"}data_dict={\"curr_per\":curr_per,\"credit_per\":credit_per,\"demo_per\":demo_per,\"princ_per\":princ_per,\"trade_per\":trade_per,\"fina_per\":fina_per}\u001b[0m\n\u001b[1;37m                                                                                                                             ^\u001b[0m\n\u001b[1;31mSyntaxError\u001b[0m\u001b[1;31m:\u001b[0m invalid syntax\n"
     ]
    }
   ],
   "source": [
    "data_dict={}\n",
    "curr_per=(current_data/current_max)*100\n",
    "credit_per=(credit_data/credit_max)*100\n",
    "demo_per=(demo_data/demo_max)*100\n",
    "princ_per=(princ_data/princ_max)*100\n",
    "trade_per=(trade_data/trade_max)*100\n",
    "fina_per=(fina_data/fina_max)*100\n"
   ]
  },
  {
   "cell_type": "code",
   "execution_count": 58,
   "id": "2acef784",
   "metadata": {},
   "outputs": [
    {
     "data": {
      "text/plain": [
       "[0.0, 0.0, 0.0, 0.0, 0.0, 0.0]"
      ]
     },
     "execution_count": 58,
     "metadata": {},
     "output_type": "execute_result"
    }
   ],
   "source": [
    "data_list"
   ]
  },
  {
   "cell_type": "code",
   "execution_count": 67,
   "id": "4fca6e15",
   "metadata": {},
   "outputs": [],
   "source": [
    "data_dict={\"curr_per\":curr_per,\"credit_per\":credit_per,\"demo_per\":demo_per,\"princ_per\":princ_per,\"trade_per\":trade_per,\"fina_per\":fina_per}"
   ]
  },
  {
   "cell_type": "code",
   "execution_count": 68,
   "id": "8dc64025",
   "metadata": {},
   "outputs": [
    {
     "data": {
      "text/plain": [
       "{'curr_per': 0.0,\n",
       " 'credit_per': 0.0,\n",
       " 'demo_per': 0.0,\n",
       " 'princ_per': 0.0,\n",
       " 'trade_per': 0.0,\n",
       " 'fina_per': 0.0}"
      ]
     },
     "execution_count": 68,
     "metadata": {},
     "output_type": "execute_result"
    }
   ],
   "source": [
    "data_dict"
   ]
  },
  {
   "cell_type": "code",
   "execution_count": 100,
   "id": "2da5af87",
   "metadata": {},
   "outputs": [],
   "source": [
    "immediate=[]\n",
    "good=[]\n",
    "keep=[]\n",
    "for key,value in data_dict.items():\n",
    "    if data_dict[key]<=50:\n",
    "        immediate.append(key)\n",
    "    elif data_dict[key]>50 and data_dict[key]<70:\n",
    "        good.append(key)\n",
    "    else:\n",
    "        keep.append(key)\n",
    "        \n",
    "        "
   ]
  },
  {
   "cell_type": "code",
   "execution_count": null,
   "id": "c1ec8763",
   "metadata": {},
   "outputs": [],
   "source": []
  },
  {
   "cell_type": "code",
   "execution_count": null,
   "id": "15b233ab",
   "metadata": {},
   "outputs": [],
   "source": []
  }
 ],
 "metadata": {
  "kernelspec": {
   "display_name": "Python 3",
   "language": "python",
   "name": "python3"
  },
  "language_info": {
   "codemirror_mode": {
    "name": "ipython",
    "version": 3
   },
   "file_extension": ".py",
   "mimetype": "text/x-python",
   "name": "python",
   "nbconvert_exporter": "python",
   "pygments_lexer": "ipython3",
   "version": "3.8.8"
  }
 },
 "nbformat": 4,
 "nbformat_minor": 5
}
